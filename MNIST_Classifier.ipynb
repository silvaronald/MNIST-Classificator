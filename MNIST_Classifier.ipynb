{
  "nbformat": 4,
  "nbformat_minor": 0,
  "metadata": {
    "colab": {
      "provenance": [],
      "collapsed_sections": []
    },
    "kernelspec": {
      "name": "python3",
      "display_name": "Python 3"
    },
    "language_info": {
      "name": "python"
    },
    "accelerator": "GPU"
  },
  "cells": [
    {
      "cell_type": "markdown",
      "source": [
        "#Importing libraries"
      ],
      "metadata": {
        "id": "s-O1ygSq_3Sr"
      }
    },
    {
      "cell_type": "code",
      "execution_count": null,
      "metadata": {
        "colab": {
          "base_uri": "https://localhost:8080/"
        },
        "id": "kvEZHkgS--_S",
        "outputId": "246a70b2-77cb-4e7d-d2aa-825d9a6f4310"
      },
      "outputs": [
        {
          "output_type": "stream",
          "name": "stdout",
          "text": [
            "\u001b[K     |████████████████████████████████| 719 kB 6.6 MB/s \n",
            "\u001b[K     |████████████████████████████████| 1.3 MB 58.0 MB/s \n",
            "\u001b[K     |████████████████████████████████| 4.9 MB 55.2 MB/s \n",
            "\u001b[K     |████████████████████████████████| 432 kB 65.1 MB/s \n",
            "\u001b[K     |████████████████████████████████| 163 kB 71.8 MB/s \n",
            "\u001b[K     |████████████████████████████████| 115 kB 77.4 MB/s \n",
            "\u001b[K     |████████████████████████████████| 212 kB 75.3 MB/s \n",
            "\u001b[K     |████████████████████████████████| 127 kB 71.2 MB/s \n",
            "\u001b[K     |████████████████████████████████| 6.6 MB 57.1 MB/s \n",
            "\u001b[?25hMounted at /content/gdrive\n"
          ]
        }
      ],
      "source": [
        "#hide\n",
        "! [ -e /content ] && pip install -Uqq fastbook\n",
        "import fastbook\n",
        "fastbook.setup_book()"
      ]
    },
    {
      "cell_type": "code",
      "source": [
        "from fastai.vision.all import *\n",
        "from fastbook import *\n",
        "import tensorflow as tf\n",
        "import numpy\n",
        "from google.colab import files\n",
        "from PIL import Image\n",
        "import torchvision.transforms as transforms\n",
        "import PIL.ImageOps"
      ],
      "metadata": {
        "id": "-xbg8PINsHaH"
      },
      "execution_count": null,
      "outputs": []
    },
    {
      "cell_type": "markdown",
      "source": [
        "#Downloading MNIST dataset"
      ],
      "metadata": {
        "id": "ZeASan64F1eG"
      }
    },
    {
      "cell_type": "code",
      "source": [
        "# I found this easy way of downloading the dataset and storing it in a variable\n",
        "from keras.datasets import mnist\n",
        "\n",
        "(x_train, y_train), (x_valid, y_valid) = mnist.load_data() "
      ],
      "metadata": {
        "id": "oH4SxK0jF8Al",
        "colab": {
          "base_uri": "https://localhost:8080/"
        },
        "outputId": "c345a113-d10a-46db-e8cb-2854ae794d32"
      },
      "execution_count": null,
      "outputs": [
        {
          "output_type": "stream",
          "name": "stdout",
          "text": [
            "Downloading data from https://storage.googleapis.com/tensorflow/tf-keras-datasets/mnist.npz\n",
            "11493376/11490434 [==============================] - 0s 0us/step\n",
            "11501568/11490434 [==============================] - 0s 0us/step\n"
          ]
        }
      ]
    },
    {
      "cell_type": "code",
      "source": [
        "# Normalize (scale all pixels value to 0 to 1 instead of 0 to 255)\n",
        "x_train = x_train / 255.0\n",
        "x_valid = x_valid / 255.0"
      ],
      "metadata": {
        "id": "qdaQHLbsImkd"
      },
      "execution_count": null,
      "outputs": []
    },
    {
      "cell_type": "markdown",
      "source": [
        "# Building the model"
      ],
      "metadata": {
        "id": "P12dZ7C1mohW"
      }
    },
    {
      "cell_type": "code",
      "source": [
        "# Model layers: two linear with a non-linear in between\n",
        "\n",
        "model = tf.keras.models.Sequential()\n",
        "\n",
        "# Input layer (the tensor will be flattened to 1D with 784 (28 * 28) elements (pixels))\n",
        "model.add(tf.keras.layers.Flatten())\n",
        "\n",
        "# Non-linear layer with Rectified Linear Unit (ReLU) as activation\n",
        "model.add(tf.keras.layers.Dense(128, activation=tf.nn.relu))\n",
        "\n",
        "# Output layer using softmax to keep predictions between 0 and 1\n",
        "model.add(tf.keras.layers.Dense(10, activation=tf.nn.softmax))"
      ],
      "metadata": {
        "id": "l1Y4zcG-vKOq"
      },
      "execution_count": null,
      "outputs": []
    },
    {
      "cell_type": "code",
      "source": [
        "# We will use Stochastic Gradient-Descent (SGD) as optimizer and CrossEntropyLoss as loss function\n",
        "model.compile(\n",
        "    optimizer=\"sgd\",\n",
        "    loss=\"SparseCategoricalCrossentropy\",\n",
        "    metrics=[\"accuracy\"]\n",
        ")"
      ],
      "metadata": {
        "id": "Pmf_cu7GKbEZ"
      },
      "execution_count": null,
      "outputs": []
    },
    {
      "cell_type": "markdown",
      "source": [
        "## Training the model"
      ],
      "metadata": {
        "id": "Hs0ra0ipK4HM"
      }
    },
    {
      "cell_type": "code",
      "source": [
        "model.fit(x_train, y_train, epochs=10)"
      ],
      "metadata": {
        "colab": {
          "base_uri": "https://localhost:8080/"
        },
        "id": "8AP_FBtlK_Ee",
        "outputId": "dfaf1609-a1e3-42a3-d6b6-721ab6226b76"
      },
      "execution_count": null,
      "outputs": [
        {
          "output_type": "stream",
          "name": "stdout",
          "text": [
            "Epoch 1/10\n",
            "1875/1875 [==============================] - 8s 2ms/step - loss: 0.6506 - accuracy: 0.8369\n",
            "Epoch 2/10\n",
            "1875/1875 [==============================] - 4s 2ms/step - loss: 0.3400 - accuracy: 0.9047\n",
            "Epoch 3/10\n",
            "1875/1875 [==============================] - 4s 2ms/step - loss: 0.2911 - accuracy: 0.9183\n",
            "Epoch 4/10\n",
            "1875/1875 [==============================] - 4s 2ms/step - loss: 0.2606 - accuracy: 0.9273\n",
            "Epoch 5/10\n",
            "1875/1875 [==============================] - 4s 2ms/step - loss: 0.2377 - accuracy: 0.9337\n",
            "Epoch 6/10\n",
            "1875/1875 [==============================] - 5s 2ms/step - loss: 0.2192 - accuracy: 0.9391\n",
            "Epoch 7/10\n",
            "1875/1875 [==============================] - 5s 2ms/step - loss: 0.2035 - accuracy: 0.9436\n",
            "Epoch 8/10\n",
            "1875/1875 [==============================] - 4s 2ms/step - loss: 0.1900 - accuracy: 0.9475\n",
            "Epoch 9/10\n",
            "1875/1875 [==============================] - 4s 2ms/step - loss: 0.1782 - accuracy: 0.9508\n",
            "Epoch 10/10\n",
            "1875/1875 [==============================] - 4s 2ms/step - loss: 0.1681 - accuracy: 0.9533\n"
          ]
        },
        {
          "output_type": "execute_result",
          "data": {
            "text/plain": [
              "<keras.callbacks.History at 0x7f4b65c2a710>"
            ]
          },
          "metadata": {},
          "execution_count": 33
        }
      ]
    },
    {
      "cell_type": "code",
      "source": [
        "# Saving the model\n",
        "model.save('mnist-model')"
      ],
      "metadata": {
        "id": "0c7YB2JdCNhQ"
      },
      "execution_count": null,
      "outputs": []
    },
    {
      "cell_type": "markdown",
      "source": [
        "## Testing the model"
      ],
      "metadata": {
        "id": "ysMKagDuMDjZ"
      }
    },
    {
      "cell_type": "code",
      "source": [
        "valid_loss, valid_accuracy = model.evaluate(x_valid, y_valid)\n",
        "print(valid_loss, valid_accuracy)"
      ],
      "metadata": {
        "colab": {
          "base_uri": "https://localhost:8080/"
        },
        "id": "oRSAMZxyMGRm",
        "outputId": "741a5a19-0461-4f58-8793-ea37052a6ece"
      },
      "execution_count": null,
      "outputs": [
        {
          "output_type": "stream",
          "name": "stdout",
          "text": [
            "313/313 [==============================] - 1s 2ms/step - loss: 0.1642 - accuracy: 0.9527\n",
            "0.16423213481903076 0.9527000188827515\n"
          ]
        }
      ]
    }
  ]
}